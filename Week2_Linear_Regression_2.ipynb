{
 "cells": [
  {
   "cell_type": "markdown",
   "id": "b3a5900c",
   "metadata": {},
   "source": [
    "# Week 2  Linear Regression part 2  Lasso Ridge Elastic Net"
   ]
  },
  {
   "cell_type": "code",
   "execution_count": null,
   "id": "8e2061e3",
   "metadata": {},
   "outputs": [],
   "source": [
    "\n",
    "import pandas as pd\n",
    "import numpy as np\n",
    "\n",
    "# Paths to uploaded datasets\n",
    "DATA_SMALL = \"/mnt/data/T_ONTIME_REPORTING.csv\"\n",
    "DATA_LARGE = \"/mnt/data/DelayData.csv\"\n",
    "\n",
    "# Utility: fast preview of a CSV\n",
    "def fast_preview(path, n=5):\n",
    "    print(f\"Previewing {path}\")\n",
    "    df = pd.read_csv(path, nrows=n)\n",
    "    display(df.head(n))\n",
    "    return df\n",
    "\n",
    "# Utility: chunked iterator for large CSV\n",
    "def chunk_reader(path, chunksize=100_000, usecols=None, dtype=None):\n",
    "    return pd.read_csv(path, chunksize=chunksize, usecols=usecols, dtype=dtype)\n",
    "\n",
    "# Utility: downsample large dataset for experiments\n",
    "def load_sample_from_large(n_rows=200_000, usecols=None):\n",
    "    # Stream chunks until we accumulate n_rows\n",
    "    rows = []\n",
    "    total = 0\n",
    "    for chunk in chunk_reader(DATA_LARGE, chunksize=100_000, usecols=usecols):\n",
    "        rows.append(chunk)\n",
    "        total += len(chunk)\n",
    "        if total >= n_rows:\n",
    "            break\n",
    "    df = pd.concat(rows, ignore_index=True)\n",
    "    print(f\"Loaded sample of {len(df):,} rows from large file\")\n",
    "    return df\n",
    "\n",
    "# Quick sanity check previews\n",
    "_ = fast_preview(DATA_SMALL, n=5)\n",
    "_ = fast_preview(DATA_LARGE, n=5)\n"
   ]
  },
  {
   "cell_type": "code",
   "execution_count": null,
   "id": "61991f04",
   "metadata": {},
   "outputs": [],
   "source": [
    "\n",
    "# Prepare features and target\n",
    "usecols = [\n",
    "    \"arrdelay\",\"depdelay\",\"scheduledhour\",\"month\",\"dayofmonth\",\n",
    "    \"temperature\",\"windspeed\",\"raindummy\",\"snowdummy\",\n",
    "    \"marketshareorigin\",\"marketsharedest\",\"hhiorigin\",\"hhidest\"\n",
    "]\n",
    "df = load_sample_from_large(n_rows=250_000, usecols=usecols).dropna()\n",
    "\n",
    "y = df[\"arrdelay\"]\n",
    "X = df.drop(columns=[\"arrdelay\"])\n",
    "\n",
    "from sklearn.model_selection import train_test_split\n",
    "from sklearn.preprocessing import StandardScaler\n",
    "from sklearn.pipeline import make_pipeline\n",
    "from sklearn.linear_model import Lasso, Ridge, ElasticNet\n",
    "from sklearn.metrics import mean_squared_error\n",
    "\n",
    "X_train, X_test, y_train, y_test = train_test_split(X, y, test_size=0.2, random_state=42)\n",
    "\n",
    "models = {\n",
    "    \"Ridge_1.0\": Ridge(alpha=1.0, random_state=42),\n",
    "    \"Lasso_0.01\": Lasso(alpha=0.01, random_state=42, max_iter=5000),\n",
    "    \"Elastic_0.1\": ElasticNet(alpha=0.1, l1_ratio=0.5, random_state=42, max_iter=5000),\n",
    "}\n",
    "\n",
    "results = {}\n",
    "for name, model in models.items():\n",
    "    pipe = make_pipeline(StandardScaler(with_mean=True), model)\n",
    "    pipe.fit(X_train, y_train)\n",
    "    pred = pipe.predict(X_test)\n",
    "    rmse = mean_squared_error(y_test, pred, squared=False)\n",
    "    results[name] = rmse\n",
    "\n",
    "results\n"
   ]
  },
  {
   "cell_type": "code",
   "execution_count": null,
   "id": "51939c7a",
   "metadata": {},
   "outputs": [],
   "source": [
    "\n",
    "# Hyperparameter tuning example with cross validation for Ridge\n",
    "from sklearn.model_selection import GridSearchCV\n",
    "from sklearn.linear_model import Ridge\n",
    "\n",
    "param_grid = {\"ridge__alpha\":[0.01, 0.1, 1.0, 10.0, 100.0]}\n",
    "pipe = make_pipeline(StandardScaler(), Ridge())\n",
    "grid = GridSearchCV(pipe, param_grid=param_grid, cv=3, scoring=\"neg_root_mean_squared_error\", n_jobs=-1)\n",
    "grid.fit(X_train, y_train)\n",
    "\n",
    "print(\"Best params:\", grid.best_params_)\n",
    "print(\"Best CV score (neg RMSE):\", grid.best_score_)\n",
    "best_model = grid.best_estimator_\n",
    "test_rmse = mean_squared_error(y_test, best_model.predict(X_test), squared=False)\n",
    "print(\"Test RMSE:\", test_rmse)\n"
   ]
  },
  {
   "cell_type": "markdown",
   "id": "859002f4",
   "metadata": {},
   "source": [
    "### Notes\n",
    "Use regularization to control variance and reduce overfitting. Report tuned alpha. Record RMSE and any change from Week 1."
   ]
  }
 ],
 "metadata": {
  "kernelspec": {
   "display_name": "Python 3",
   "language": "python",
   "name": "python3"
  }
 },
 "nbformat": 4,
 "nbformat_minor": 5
}
