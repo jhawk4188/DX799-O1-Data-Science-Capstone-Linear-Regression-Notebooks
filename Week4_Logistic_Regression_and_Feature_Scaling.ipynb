{
 "cells": [
  {
   "cell_type": "markdown",
   "id": "44c03de6",
   "metadata": {},
   "source": [
    "# Week 4  Logistic Regression and Feature Scaling"
   ]
  },
  {
   "cell_type": "code",
   "execution_count": null,
   "id": "abf93995",
   "metadata": {},
   "outputs": [],
   "source": [
    "\n",
    "import pandas as pd\n",
    "import numpy as np\n",
    "\n",
    "# Paths to uploaded datasets\n",
    "DATA_SMALL = \"/mnt/data/T_ONTIME_REPORTING.csv\"\n",
    "DATA_LARGE = \"/mnt/data/DelayData.csv\"\n",
    "\n",
    "# Utility: fast preview of a CSV\n",
    "def fast_preview(path, n=5):\n",
    "    print(f\"Previewing {path}\")\n",
    "    df = pd.read_csv(path, nrows=n)\n",
    "    display(df.head(n))\n",
    "    return df\n",
    "\n",
    "# Utility: chunked iterator for large CSV\n",
    "def chunk_reader(path, chunksize=100_000, usecols=None, dtype=None):\n",
    "    return pd.read_csv(path, chunksize=chunksize, usecols=usecols, dtype=dtype)\n",
    "\n",
    "# Utility: downsample large dataset for experiments\n",
    "def load_sample_from_large(n_rows=200_000, usecols=None):\n",
    "    # Stream chunks until we accumulate n_rows\n",
    "    rows = []\n",
    "    total = 0\n",
    "    for chunk in chunk_reader(DATA_LARGE, chunksize=100_000, usecols=usecols):\n",
    "        rows.append(chunk)\n",
    "        total += len(chunk)\n",
    "        if total >= n_rows:\n",
    "            break\n",
    "    df = pd.concat(rows, ignore_index=True)\n",
    "    print(f\"Loaded sample of {len(df):,} rows from large file\")\n",
    "    return df\n",
    "\n",
    "# Quick sanity check previews\n",
    "_ = fast_preview(DATA_SMALL, n=5)\n",
    "_ = fast_preview(DATA_LARGE, n=5)\n"
   ]
  },
  {
   "cell_type": "code",
   "execution_count": null,
   "id": "11180746",
   "metadata": {},
   "outputs": [],
   "source": [
    "\n",
    "# Build a binary classification target  arrival delay greater than 15 minutes\n",
    "usecols = [\n",
    "    \"arrdelay\",\"depdelay\",\"scheduledhour\",\"month\",\"dayofmonth\",\n",
    "    \"temperature\",\"windspeed\",\"raindummy\",\"snowdummy\",\n",
    "    \"marketshareorigin\",\"marketsharedest\"\n",
    "]\n",
    "df = load_sample_from_large(n_rows=250_000, usecols=usecols).dropna()\n",
    "\n",
    "df[\"target_delay15\"] = (df[\"arrdelay\"] > 15).astype(int)\n",
    "y = df[\"target_delay15\"].values\n",
    "X = df.drop(columns=[\"arrdelay\",\"target_delay15\"]).values\n",
    "\n",
    "from sklearn.model_selection import train_test_split\n",
    "from sklearn.preprocessing import StandardScaler\n",
    "from sklearn.linear_model import LogisticRegression\n",
    "from sklearn.metrics import classification_report, roc_auc_score, RocCurveDisplay\n",
    "\n",
    "X_train, X_test, y_train, y_test = train_test_split(X, y, test_size=0.2, random_state=42, stratify=y)\n",
    "\n",
    "scaler = StandardScaler()\n",
    "X_train_s = scaler.fit_transform(X_train)\n",
    "X_test_s = scaler.transform(X_test)\n",
    "\n",
    "clf = LogisticRegression(max_iter=2000, solver=\"lbfgs\")\n",
    "clf.fit(X_train_s, y_train)\n",
    "proba = clf.predict_proba(X_test_s)[:,1]\n",
    "pred = (proba >= 0.5).astype(int)\n",
    "\n",
    "print(classification_report(y_test, pred))\n",
    "print(\"ROC AUC:\", roc_auc_score(y_test, proba))\n",
    "RocCurveDisplay.from_predictions(y_test, proba)\n"
   ]
  },
  {
   "cell_type": "markdown",
   "id": "32e63f65",
   "metadata": {},
   "source": [
    "### Notes\n",
    "Explain class imbalance if present, show ROC AUC, precision, recall. Describe feature scaling and reasons."
   ]
  }
 ],
 "metadata": {
  "kernelspec": {
   "display_name": "Python 3",
   "language": "python",
   "name": "python3"
  }
 },
 "nbformat": 4,
 "nbformat_minor": 5
}
