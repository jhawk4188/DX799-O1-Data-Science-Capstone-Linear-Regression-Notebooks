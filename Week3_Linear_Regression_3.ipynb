{
 "cells": [
  {
   "cell_type": "markdown",
   "id": "3c53257c",
   "metadata": {},
   "source": [
    "# Week 3  Linear Regression part 3  Forward Backward Selection  PCR  PLSR"
   ]
  },
  {
   "cell_type": "code",
   "execution_count": null,
   "id": "d92095eb",
   "metadata": {},
   "outputs": [],
   "source": [
    "\n",
    "import pandas as pd\n",
    "import numpy as np\n",
    "\n",
    "# Paths to uploaded datasets\n",
    "DATA_SMALL = \"/mnt/data/T_ONTIME_REPORTING.csv\"\n",
    "DATA_LARGE = \"/mnt/data/DelayData.csv\"\n",
    "\n",
    "# Utility: fast preview of a CSV\n",
    "def fast_preview(path, n=5):\n",
    "    print(f\"Previewing {path}\")\n",
    "    df = pd.read_csv(path, nrows=n)\n",
    "    display(df.head(n))\n",
    "    return df\n",
    "\n",
    "# Utility: chunked iterator for large CSV\n",
    "def chunk_reader(path, chunksize=100_000, usecols=None, dtype=None):\n",
    "    return pd.read_csv(path, chunksize=chunksize, usecols=usecols, dtype=dtype)\n",
    "\n",
    "# Utility: downsample large dataset for experiments\n",
    "def load_sample_from_large(n_rows=200_000, usecols=None):\n",
    "    # Stream chunks until we accumulate n_rows\n",
    "    rows = []\n",
    "    total = 0\n",
    "    for chunk in chunk_reader(DATA_LARGE, chunksize=100_000, usecols=usecols):\n",
    "        rows.append(chunk)\n",
    "        total += len(chunk)\n",
    "        if total >= n_rows:\n",
    "            break\n",
    "    df = pd.concat(rows, ignore_index=True)\n",
    "    print(f\"Loaded sample of {len(df):,} rows from large file\")\n",
    "    return df\n",
    "\n",
    "# Quick sanity check previews\n",
    "_ = fast_preview(DATA_SMALL, n=5)\n",
    "_ = fast_preview(DATA_LARGE, n=5)\n"
   ]
  },
  {
   "cell_type": "code",
   "execution_count": null,
   "id": "2e15e779",
   "metadata": {},
   "outputs": [],
   "source": [
    "\n",
    "# Load a moderate feature set\n",
    "usecols = [\n",
    "    \"arrdelay\",\"depdelay\",\"scheduledhour\",\"month\",\"dayofmonth\",\n",
    "    \"temperature\",\"windspeed\",\"raindummy\",\"snowdummy\",\n",
    "    \"marketshareorigin\",\"marketsharedest\",\"hhiorigin\",\"hhidest\"\n",
    "]\n",
    "df = load_sample_from_large(n_rows=200_000, usecols=usecols).dropna()\n",
    "\n",
    "y = df[\"arrdelay\"].values\n",
    "X = df.drop(columns=[\"arrdelay\"]).values\n",
    "\n",
    "from sklearn.decomposition import PCA\n",
    "from sklearn.model_selection import train_test_split\n",
    "from sklearn.preprocessing import StandardScaler\n",
    "from sklearn.linear_model import LinearRegression\n",
    "from sklearn.metrics import mean_squared_error, r2_score\n",
    "\n",
    "X_train, X_test, y_train, y_test = train_test_split(X, y, test_size=0.2, random_state=42)\n",
    "\n",
    "# PCR  PCA followed by Linear Regression\n",
    "scaler = StandardScaler()\n",
    "X_train_s = scaler.fit_transform(X_train)\n",
    "X_test_s = scaler.transform(X_test)\n",
    "\n",
    "pca = PCA(n_components=0.95, svd_solver=\"full\")\n",
    "X_train_p = pca.fit_transform(X_train_s)\n",
    "X_test_p = pca.transform(X_test_s)\n",
    "\n",
    "lin = LinearRegression()\n",
    "lin.fit(X_train_p, y_train)\n",
    "pred = lin.predict(X_test_p)\n",
    "\n",
    "rmse = mean_squared_error(y_test, pred, squared=False)\n",
    "r2 = r2_score(y_test, pred)\n",
    "\n",
    "print(\"PCR RMSE:\", rmse)\n",
    "print(\"PCR R2:\", r2)\n",
    "print(\"Num components:\", pca.n_components_)\n"
   ]
  },
  {
   "cell_type": "code",
   "execution_count": null,
   "id": "bd24e896",
   "metadata": {},
   "outputs": [],
   "source": [
    "\n",
    "# PLSR using sklearn cross decomposition\n",
    "from sklearn.cross_decomposition import PLSRegression\n",
    "\n",
    "pls = PLSRegression(n_components=min(10, X_train.shape[1]))\n",
    "pls.fit(X_train_s, y_train)\n",
    "pred_pls = pls.predict(X_test_s).ravel()\n",
    "\n",
    "rmse_pls = mean_squared_error(y_test, pred_pls, squared=False)\n",
    "r2_pls = r2_score(y_test, pred_pls)\n",
    "print(\"PLSR RMSE:\", rmse_pls)\n",
    "print(\"PLSR R2:\", r2_pls)\n"
   ]
  },
  {
   "cell_type": "markdown",
   "id": "bf0403ea",
   "metadata": {},
   "source": [
    "### Notes\n",
    "Discuss selection strategy. For forward or backward selection you can use information criteria or cross validation with feature subsets. Record variance explained by PCA for PCR."
   ]
  }
 ],
 "metadata": {
  "kernelspec": {
   "display_name": "Python 3",
   "language": "python",
   "name": "python3"
  }
 },
 "nbformat": 4,
 "nbformat_minor": 5
}
