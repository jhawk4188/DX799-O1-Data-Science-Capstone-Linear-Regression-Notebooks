{
 "cells": [
  {
   "cell_type": "markdown",
   "id": "ebf8bf6f",
   "metadata": {},
   "source": [
    "# Week 5  Support Vector Machines  Kernel Trick  Regularization"
   ]
  },
  {
   "cell_type": "code",
   "execution_count": null,
   "id": "c0192d5a",
   "metadata": {},
   "outputs": [],
   "source": [
    "\n",
    "import pandas as pd\n",
    "import numpy as np\n",
    "\n",
    "# Paths to uploaded datasets\n",
    "DATA_SMALL = \"/mnt/data/T_ONTIME_REPORTING.csv\"\n",
    "DATA_LARGE = \"/mnt/data/DelayData.csv\"\n",
    "\n",
    "# Utility: fast preview of a CSV\n",
    "def fast_preview(path, n=5):\n",
    "    print(f\"Previewing {path}\")\n",
    "    df = pd.read_csv(path, nrows=n)\n",
    "    display(df.head(n))\n",
    "    return df\n",
    "\n",
    "# Utility: chunked iterator for large CSV\n",
    "def chunk_reader(path, chunksize=100_000, usecols=None, dtype=None):\n",
    "    return pd.read_csv(path, chunksize=chunksize, usecols=usecols, dtype=dtype)\n",
    "\n",
    "# Utility: downsample large dataset for experiments\n",
    "def load_sample_from_large(n_rows=200_000, usecols=None):\n",
    "    # Stream chunks until we accumulate n_rows\n",
    "    rows = []\n",
    "    total = 0\n",
    "    for chunk in chunk_reader(DATA_LARGE, chunksize=100_000, usecols=usecols):\n",
    "        rows.append(chunk)\n",
    "        total += len(chunk)\n",
    "        if total >= n_rows:\n",
    "            break\n",
    "    df = pd.concat(rows, ignore_index=True)\n",
    "    print(f\"Loaded sample of {len(df):,} rows from large file\")\n",
    "    return df\n",
    "\n",
    "# Quick sanity check previews\n",
    "_ = fast_preview(DATA_SMALL, n=5)\n",
    "_ = fast_preview(DATA_LARGE, n=5)\n"
   ]
  },
  {
   "cell_type": "code",
   "execution_count": null,
   "id": "c63e9adf",
   "metadata": {},
   "outputs": [],
   "source": [
    "\n",
    "# Reuse the binary target from Week 4\n",
    "usecols = [\n",
    "    \"arrdelay\",\"depdelay\",\"scheduledhour\",\"month\",\"dayofmonth\",\n",
    "    \"temperature\",\"windspeed\",\"raindummy\",\"snowdummy\",\n",
    "    \"marketshareorigin\",\"marketsharedest\"\n",
    "]\n",
    "df = load_sample_from_large(n_rows=180_000, usecols=usecols).dropna()\n",
    "df[\"target_delay15\"] = (df[\"arrdelay\"] > 15).astype(int)\n",
    "\n",
    "X = df.drop(columns=[\"arrdelay\",\"target_delay15\"]).values\n",
    "y = df[\"target_delay15\"].values\n",
    "\n",
    "from sklearn.model_selection import train_test_split, GridSearchCV\n",
    "from sklearn.preprocessing import StandardScaler\n",
    "from sklearn.pipeline import make_pipeline\n",
    "from sklearn.svm import SVC\n",
    "from sklearn.metrics import classification_report, roc_auc_score\n",
    "\n",
    "X_train, X_test, y_train, y_test = train_test_split(X, y, test_size=0.2, random_state=42, stratify=y)\n",
    "\n",
    "pipe = make_pipeline(StandardScaler(), SVC(probability=True))\n",
    "\n",
    "param_grid = {\n",
    "    \"svc__kernel\": [\"rbf\",\"linear\"],\n",
    "    \"svc__C\": [0.1, 1, 10],\n",
    "    \"svc__gamma\": [\"scale\", 0.1, 0.01]\n",
    "}\n",
    "\n",
    "grid = GridSearchCV(pipe, param_grid, cv=3, scoring=\"roc_auc\", n_jobs=-1)\n",
    "grid.fit(X_train, y_train)\n",
    "\n",
    "print(\"Best params:\", grid.best_params_)\n",
    "best = grid.best_estimator_\n",
    "proba = best.predict_proba(X_test)[:,1]\n",
    "pred = (proba >= 0.5).astype(int)\n",
    "\n",
    "print(classification_report(y_test, pred))\n",
    "print(\"ROC AUC:\", roc_auc_score(y_test, proba))\n"
   ]
  },
  {
   "cell_type": "markdown",
   "id": "96087b0a",
   "metadata": {},
   "source": [
    "### Notes\n",
    "Discuss kernel choice and regularization parameter C. Compare linear with RBF. Report ROC AUC and confusion matrix insights."
   ]
  }
 ],
 "metadata": {
  "kernelspec": {
   "display_name": "Python 3",
   "language": "python",
   "name": "python3"
  }
 },
 "nbformat": 4,
 "nbformat_minor": 5
}
